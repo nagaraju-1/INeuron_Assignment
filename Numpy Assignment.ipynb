{
 "cells": [
  {
   "cell_type": "markdown",
   "metadata": {},
   "source": [
    "#### 1.Write a function so that the columns of the output matrix are powers of the input vector.\n",
    "The order of the powers is determined by the increasing boolean argument. Specifically, when\n",
    "increasing is False, the i-th output column is the input vector raised element-wise to the power\n",
    "of N - i - 1.\n",
    "\n",
    "HINT: Such a matrix with a geometric progression in each row is named for Alexandre-\n",
    "Theophile Vandermonde."
   ]
  },
  {
   "cell_type": "code",
   "execution_count": 29,
   "metadata": {},
   "outputs": [],
   "source": [
    "import numpy as np\n",
    "l=[1,2,3,4]\n",
    "\n",
    "def vandermonde(l,N=len(l),increasing=False):\n",
    "    b=[]\n",
    "    new=[]\n",
    "    for i in range(len(l)):\n",
    "        a=[]\n",
    "        \n",
    "        #Block for Number of columns user want Default N will be len(Given List)/ 1-d array\n",
    "        \n",
    "        for j in range(N):\n",
    "            a.append(l[i]**j)\n",
    "        b.append(a)\n",
    "        \n",
    "    '''\n",
    "    Conditional Block based on the user for Output\n",
    "    If True, the powers increase from left to right, else will take default matrix output.\n",
    "    '''\n",
    "    if (increasing):\n",
    "        return np.array(b)\n",
    "    else:\n",
    "        \n",
    "        for i in range(len(b)):\n",
    "            new.append((b[i][::-1]))\n",
    "        return np.array(new)\n",
    "        \n",
    "        \n",
    "        \n"
   ]
  },
  {
   "cell_type": "code",
   "execution_count": 30,
   "metadata": {},
   "outputs": [
    {
     "data": {
      "text/plain": [
       "array([[  1,   1,   1,   1,   1],\n",
       "       [  1,   2,   4,   8,  16],\n",
       "       [  1,   3,   9,  27,  81],\n",
       "       [  1,   4,  16,  64, 256]])"
      ]
     },
     "execution_count": 30,
     "metadata": {},
     "output_type": "execute_result"
    }
   ],
   "source": [
    "#Scenario 1 Let increase =True \n",
    "vandermonde(l,N=5,increasing=True)"
   ]
  },
  {
   "cell_type": "code",
   "execution_count": 31,
   "metadata": {},
   "outputs": [
    {
     "data": {
      "text/plain": [
       "array([[  1,   1,   1,   1,   1],\n",
       "       [ 16,   8,   4,   2,   1],\n",
       "       [ 81,  27,   9,   3,   1],\n",
       "       [256,  64,  16,   4,   1]])"
      ]
     },
     "execution_count": 31,
     "metadata": {},
     "output_type": "execute_result"
    }
   ],
   "source": [
    "#Scenario 2 Let increase =Flase \n",
    "vandermonde(l,N=5)"
   ]
  },
  {
   "cell_type": "code",
   "execution_count": 33,
   "metadata": {},
   "outputs": [
    {
     "name": "stdout",
     "output_type": "stream",
     "text": [
      "Enter N 'Number of columns in the output.':6\n"
     ]
    },
    {
     "data": {
      "text/plain": [
       "array([[   1,    1,    1,    1,    1,    1],\n",
       "       [   1,    2,    4,    8,   16,   32],\n",
       "       [   1,    3,    9,   27,   81,  243],\n",
       "       [   1,    4,   16,   64,  256, 1024]])"
      ]
     },
     "execution_count": 33,
     "metadata": {},
     "output_type": "execute_result"
    }
   ],
   "source": [
    "#Scenario 3 Let increase =True and User input for N\n",
    "N=int(input(\"Enter N 'Number of columns in the output.':\"))\n",
    "vandermonde(l,N,increasing=True)"
   ]
  },
  {
   "cell_type": "code",
   "execution_count": 34,
   "metadata": {},
   "outputs": [
    {
     "name": "stdout",
     "output_type": "stream",
     "text": [
      "Enter N 'Number of columns in the output.':4\n"
     ]
    },
    {
     "data": {
      "text/plain": [
       "array([[ 1,  1,  1,  1],\n",
       "       [ 8,  4,  2,  1],\n",
       "       [27,  9,  3,  1],\n",
       "       [64, 16,  4,  1]])"
      ]
     },
     "execution_count": 34,
     "metadata": {},
     "output_type": "execute_result"
    }
   ],
   "source": [
    "#Scenario 4 Let increase =False and User input for N\n",
    "N=int(input(\"Enter N 'Number of columns in the output.':\"))\n",
    "vandermonde(l,N)"
   ]
  },
  {
   "cell_type": "markdown",
   "metadata": {},
   "source": [
    "#### 2.Write a function to find moving average in an array over a window: Test it over [3, 5, 7, 2, 8, 10, 11, 65, 72, 81, 99, 100, 150] and window of 3."
   ]
  },
  {
   "cell_type": "code",
   "execution_count": 39,
   "metadata": {},
   "outputs": [],
   "source": [
    "import numpy as np\n",
    "\n",
    "def moving_avg(l):\n",
    "    a=[]\n",
    "    n= 3\n",
    "    for i in range(len(l)-n+1):\n",
    "        a.append(round(sum(np.array(l)[i:i+n]/n),2))\n",
    "    return a\n",
    "l=[3, 5, 7, 2, 8, 10, 11, 65, 72, 81, 99, 100, 150]\n"
   ]
  },
  {
   "cell_type": "code",
   "execution_count": 40,
   "metadata": {},
   "outputs": [
    {
     "data": {
      "text/plain": [
       "[5.0, 4.67, 5.67, 6.67, 9.67, 28.67, 49.33, 72.67, 84.0, 93.33, 116.33]"
      ]
     },
     "execution_count": 40,
     "metadata": {},
     "output_type": "execute_result"
    }
   ],
   "source": [
    "moving_avg(l)"
   ]
  },
  {
   "cell_type": "code",
   "execution_count": null,
   "metadata": {},
   "outputs": [],
   "source": []
  }
 ],
 "metadata": {
  "kernelspec": {
   "display_name": "Python 3",
   "language": "python",
   "name": "python3"
  },
  "language_info": {
   "codemirror_mode": {
    "name": "ipython",
    "version": 3
   },
   "file_extension": ".py",
   "mimetype": "text/x-python",
   "name": "python",
   "nbconvert_exporter": "python",
   "pygments_lexer": "ipython3",
   "version": "3.7.4"
  }
 },
 "nbformat": 4,
 "nbformat_minor": 2
}
