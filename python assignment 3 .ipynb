{
 "cells": [
  {
   "cell_type": "markdown",
   "metadata": {},
   "source": [
    "#### 1.1 Write a Python Program to implement your own myreduce() function which works exactly like Python's built-in function reduce()"
   ]
  },
  {
   "cell_type": "code",
   "execution_count": 20,
   "metadata": {},
   "outputs": [
    {
     "name": "stdout",
     "output_type": "stream",
     "text": [
      "Enter number of elemnents to add in list5\n",
      "Enter Element 0 10\n",
      "Enter Element 1 20\n",
      "Enter Element 2 3\n",
      "Enter Element 3 40\n",
      "Enter Element 4 50\n"
     ]
    },
    {
     "data": {
      "text/plain": [
       "123"
      ]
     },
     "execution_count": 20,
     "metadata": {},
     "output_type": "execute_result"
    }
   ],
   "source": [
    "#Reduce apply function on sequential pairs \n",
    "\n",
    "def myreduce(n):\n",
    "    s=0\n",
    "    for  i in n:\n",
    "        s=s+i\n",
    "    return s\n",
    "num=int(input(\"Enter number of elemnents to add in list\"))\n",
    "n=[]\n",
    "for i in range(num):\n",
    "    n.append(int(input(\"Enter Element {} \".format(i))))\n",
    "myreduce(n)"
   ]
  },
  {
   "cell_type": "markdown",
   "metadata": {},
   "source": [
    "#### 1.2 Write a Python program to implement your own myfilter() function which works exactly like Python's built-in function filter()"
   ]
  },
  {
   "cell_type": "code",
   "execution_count": 16,
   "metadata": {
    "scrolled": true
   },
   "outputs": [
    {
     "name": "stdout",
     "output_type": "stream",
     "text": [
      "Enter number of elemnents to add in list 5\n",
      "Enter Element 0 -2\n",
      "Enter Element 1 -1\n",
      "Enter Element 2 30\n",
      "Enter Element 3 0\n",
      "Enter Element 4 56\n",
      "\n",
      "Input list [-2, -1, 30, 0, 56]\n",
      "\n",
      "0 is Nor positive Nor Negative\n",
      "Positve list [30, 56]\n",
      "Negative list [-2, -1]\n"
     ]
    }
   ],
   "source": [
    "# myfilter filters the Data Elements: \n",
    "# Filter Positive and Negative elements\n",
    "\n",
    "def myfilter(n):\n",
    "    p=[]\n",
    "    neg=[]\n",
    "    for  i in n:\n",
    "        if i==0:\n",
    "            print(\"0 is Nor positive Nor Negative\")\n",
    "            continue\n",
    "        elif i<0:\n",
    "            neg.append(i)\n",
    "            continue\n",
    "        else:\n",
    "            p.append(i)\n",
    "            continue\n",
    "    print('Positve list {}\\nNegative list {}'.format(p,neg))\n",
    "\n",
    "num=int(input(\"Enter number of elemnents to add in list \"))\n",
    "n=[]\n",
    "for i in range(num):\n",
    "    n.append(int(input(\"Enter Element {} \".format(i))))\n",
    "print(\"\\nInput list\",n)\n",
    "print()\n",
    "myfilter(n)\n"
   ]
  },
  {
   "cell_type": "markdown",
   "metadata": {},
   "source": [
    "#### 2. Implement List comprehensions to produce the following lists.\n",
    "Write List comprehensions to produce the following Lists\n",
    "\n",
    "4\n",
    "\n",
    "['x', 'xx', 'xxx', 'xxxx', 'y', 'yy', 'yyy', 'yyyy', 'z', 'zz', 'zzz', 'zzzz']\n",
    "\n",
    "['x', 'y', 'z', 'xx', 'yy', 'zz', 'xxx', 'yyy', 'zzz', 'xxxx', 'yyyy', 'zzzz']\n",
    "\n",
    "[[2], [3], [4], [3], [4], [5], [4], [5], [6]] [[2, 3, 4, 5], [3, 4, 5, 6],\n",
    "[4, 5, 6, 7], [5, 6, 7, 8]]\n",
    "\n",
    "[(1, 1), (2, 1), (3, 1), (1, 2), (2, 2), (3, 2), (1, 3), (2, 3), (3, 3)]"
   ]
  },
  {
   "cell_type": "code",
   "execution_count": 27,
   "metadata": {},
   "outputs": [
    {
     "name": "stdout",
     "output_type": "stream",
     "text": [
      "['x', 'xx', 'xxx', 'xxxx', 'y', 'yy', 'yyy', 'yyyy', 'z', 'zz', 'zzz', 'zzzz']\n",
      "\n",
      "['x', 'y', 'z', 'xx', 'yy', 'zz', 'xxx', 'yyy', 'zzz', 'xxxx', 'yyyy', 'zzzz']\n",
      "\n",
      "[[2], [3], [4], [3], [4], [5], [4], [5], [6]]\n",
      "\n",
      "[[2, 3, 4, 5], [3, 4, 5, 6], [4, 5, 6, 7], [5, 6, 7, 8]]\n",
      "\n",
      "[(1, 1), (2, 1), (3, 1), (1, 2), (2, 2), (3, 2), (1, 3), (2, 3), (3, 3)]\n",
      "\n"
     ]
    }
   ],
   "source": [
    "#List comprehension 1 \n",
    "l=['x','y','z']\n",
    "print([lc*i for lc in l for i in range(1,5) ])\n",
    "print()\n",
    "\n",
    "#List comprehension 2 \n",
    "l=['x','y','z']\n",
    "print([lc*i for i in range(1,5) for lc in l  ])\n",
    "print()\n",
    "\n",
    "#List comprehension 3\n",
    "l=[2,3,4]\n",
    "print([[lc+i] for i in range(0,3) for lc in l  ])\n",
    "print()\n",
    "\n",
    "#List comprehension 3\n",
    "l=[2,3,4,5]\n",
    "print([[lc+i  for lc in l]  for i in range(0,4)])\n",
    "print()\n",
    "\n",
    "#List comprehension 5 \n",
    "l=[1,2,3]\n",
    "print([(lc,i) for i in l for lc in l  ])\n",
    "print()\n",
    "\n"
   ]
  },
  {
   "cell_type": "code",
   "execution_count": null,
   "metadata": {},
   "outputs": [],
   "source": []
  }
 ],
 "metadata": {
  "kernelspec": {
   "display_name": "Python 3",
   "language": "python",
   "name": "python3"
  },
  "language_info": {
   "codemirror_mode": {
    "name": "ipython",
    "version": 3
   },
   "file_extension": ".py",
   "mimetype": "text/x-python",
   "name": "python",
   "nbconvert_exporter": "python",
   "pygments_lexer": "ipython3",
   "version": "3.7.4"
  }
 },
 "nbformat": 4,
 "nbformat_minor": 2
}
